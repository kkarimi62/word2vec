{
 "cells": [
  {
   "cell_type": "markdown",
   "metadata": {},
   "source": [
    "# Install dependencies"
   ]
  },
  {
   "cell_type": "code",
   "execution_count": null,
   "metadata": {},
   "outputs": [],
   "source": [
    "#!pip install gensim"
   ]
  },
  {
   "cell_type": "markdown",
   "metadata": {},
   "source": [
    "# Imports"
   ]
  },
  {
   "cell_type": "code",
   "execution_count": 11,
   "metadata": {},
   "outputs": [],
   "source": [
    "import json\n",
    "import gensim.downloader as api\n",
    "\n",
    "#--- libs imported by kk\n",
    "import numpy as np\n",
    "import networkx as nx\n",
    "import matplotlib.pylab as plt\n",
    "import pdb\n",
    "import numpy as np\n",
    "import matplotlib\n",
    "from matplotlib.ticker import (MultipleLocator, AutoMinorLocator)\n",
    "plt.rcParams['text.usetex'] = True\n",
    "import warnings\n",
    "warnings.filterwarnings('ignore')\n"
   ]
  },
  {
   "cell_type": "code",
   "execution_count": 2,
   "metadata": {},
   "outputs": [],
   "source": [
    "#--- aux functions\n",
    "\n",
    "def GetPDF(slist, n_per_decade=4, ACCUM = None, linscale = None, density=True,**kwargs):\n",
    "    '''\n",
    "    return pdf\n",
    "    '''\n",
    "    if 'bins' in kwargs:\n",
    "        bins = kwargs['bins'] \n",
    "    elif not linscale:\n",
    "        xlo = np.floor(np.log10(np.min(slist)))\n",
    "        xhi = np.ceil(np.log10(np.max(slist)))\n",
    "        bins = np.logspace(xlo,xhi,int(xhi-xlo)*n_per_decade)    \n",
    "    else:\n",
    "        assert not 'bins' in kwargs and linscale\n",
    "        xlo = np.min(slist)\n",
    "        xhi = np.max(slist)\n",
    "        bins = np.linspace(xlo,xhi,n_per_decade)\n",
    "\n",
    "    bins = kwargs['bins'] if 'bins' in kwargs else bins\n",
    "        \n",
    "    hist, edges = np.histogram(slist,bins=bins,density=density)\n",
    "    count, edges = np.histogram(slist,bins=bins)\n",
    "    \n",
    "    \n",
    "    if ACCUM:\n",
    "        return np.cumsum((edges[1:]-edges[:-1])*hist), edges\n",
    "    \n",
    "    if density:\n",
    "    \tnth=1   \n",
    "    \thist = hist[count>nth]\n",
    "    \tedges = edges[:-1][count>nth]\n",
    "    \tcount = count[count>nth]\n",
    "    else:\n",
    "        count=1\n",
    "\n",
    "    return  hist, edges, hist / count**0.5\n",
    "\n",
    "\n",
    "def PltErr( xdata, ydata, \n",
    "            yerr = None,\n",
    "            xstr = '',\n",
    "            ystr = '',\n",
    "            Plot = True,\n",
    "            **kwargs\n",
    "            ):\n",
    "    '''\n",
    "    plot data\n",
    "    '''\n",
    "    fontsize=kwargs['fontsize'] if 'fontsize' in kwargs else 20\n",
    "    if not 'ax' in kwargs:\n",
    "        fig = plt.figure( figsize = (4,4) if 'figsize' not in kwargs else kwargs['figsize'] )\n",
    "        ax = fig.add_subplot(111)\n",
    "#        ax.count = 0\n",
    "        ax.markerss=['o','s','D','^','<','>','v']\n",
    "\n",
    "#        ax.set_prop_cycle(marker=['o', '+', 'x', '*', '.', 'X'])\n",
    "    else:\n",
    "        ax = kwargs['ax']\n",
    "#        ax.count += 1\n",
    "\n",
    "        if 'twinx' in kwargs and kwargs['twinx']:\n",
    "                ax = kwargs['ax'].twinx()\n",
    "    #--- setting   \n",
    "    ax.set_xlabel(xstr,fontsize=fontsize)\n",
    "    ax.set_ylabel(ystr,fontsize=fontsize)\n",
    "    ax.tick_params(labelsize=fontsize,which='both',axis='both', top=True, right=True)\n",
    "    #\n",
    "    xerr = kwargs['xerr'] if 'xerr' in kwargs else None \n",
    "#\n",
    "    if 'attrs' in kwargs:\n",
    "        ax.errorbar( xdata, ydata,yerr = yerr, xerr = xerr, **kwargs['attrs'])\n",
    "        if 'fill_between' in kwargs and kwargs['fill_between']:\n",
    "            ax.fill_between(xdata, ydata-yerr, ydata+yerr)\n",
    "    else:\n",
    "        ax.errorbar( xdata, ydata,yerr = yerr, xerr = xerr,\n",
    "                    fmt=kwargs['fmt'] if 'fmt' in kwargs else '-o',\n",
    "                    label=kwargs['label'] if 'label' in kwargs else '',\n",
    "                    markevery=kwargs['markevery'] if 'markevery' in kwargs else 1,\n",
    "                    markersize=kwargs['markersize'] if 'markersize' in kwargs else 10,\n",
    "                    marker=kwargs['marker'] if 'marker' in kwargs else 'o', #ax.markerss[(ax.count)%7],\n",
    "                   )\n",
    "\n",
    "    #--- plot\n",
    "    #\n",
    "#    ax.plot(ax.axis()[:2],[0.0,0.0],'-.',color='black')\n",
    "    #\n",
    "    if 'ylim' in kwargs:\n",
    "        ylim = kwargs['ylim'] \n",
    "        ax.set_ylim(ylim)\n",
    "    if 'xlim' in kwargs:\n",
    "        xlim = kwargs['xlim'] \n",
    "        ax.set_xlim(xlim)\n",
    "    #\n",
    "    if 'xscale' in kwargs: \n",
    "        ax.set_xscale(kwargs['xscale'])\n",
    "    if 'yscale' in kwargs: \n",
    "        ax.set_yscale(kwargs['yscale'])\n",
    "    #\n",
    "    if 'xticks' in kwargs:\n",
    "        ax.set_xticks(list(map(float,kwargs['xticks'][1])))\n",
    "#        ax.set_xticklabels(list(map(lambda x:'$%s$'%x,kwargs['xticks'][0])))\n",
    "        ax.set_xticklabels(kwargs['xticks'][0])\n",
    "    #\n",
    "    if 'yticks' in kwargs:\n",
    "        ax.set_yticks(list(map(float,kwargs['yticks'][1])))\n",
    "        ax.set_yticklabels(list(map(lambda x:'$%s$'%x,kwargs['yticks'][0])))\n",
    "        \n",
    "    #\n",
    "    LOGY = True if ('yscale' in kwargs and kwargs['yscale'] == 'log') else False\n",
    "    LOGX = True if ('xscale' in kwargs and kwargs['xscale'] == 'log') else False\n",
    "    ndecade_x = kwargs['ndecade_x'] if 'ndecade_x' in kwargs else 1\n",
    "    ndecade_y = kwargs['ndecade_y'] if 'ndecade_y' in kwargs else 1\n",
    "    PutMinorTicks(ax, LOGX=LOGX,LOGY=LOGY,nevery_x=ndecade_x,nevery_y=ndecade_y)\n",
    "    #\n",
    "    if 'DrawFrame' in kwargs: \n",
    "        DrawFrame(ax, *kwargs['DrawFrame'],LOG_Y=LOGY,LOG_X=LOGX)\n",
    "    #\n",
    "    if 'legend' in kwargs:\n",
    "        plt.legend(**kwargs['legend'])\n",
    "\t#\n",
    "    if 'halfopen' in kwargs and kwargs['halfopen']:\n",
    "        ax.spines['right'].set_visible(False) #--- half open\n",
    "        ax.spines['top'].set_visible(False)\n",
    "        ax.xaxis.set_ticks_position('bottom')\n",
    "        ax.yaxis.set_ticks_position('left')\n",
    "\n",
    "    if 'title' in kwargs: #Plot:\n",
    "        plt.savefig(kwargs['title'],dpi=300 if not 'dpi' in kwargs else kwargs['dpi'],bbox_inches='tight', \n",
    "                    pad_inches=0.0)\n",
    "    if Plot:\n",
    "        plt.show()\n",
    "    #\n",
    "    \n",
    "    \n",
    "#    if not 'ax' in kwargs:\n",
    "    return ax\n",
    "\n",
    "\n",
    "class Symbols:\n",
    "    '''\n",
    "    plot settings for matplotlib\n",
    "    '''\n",
    "    \n",
    "    def __init__(self):\n",
    "        self.colors = ['black','red','green','blue','cyan','brown','grey','magenta','orange','yellow']\n",
    "        self.fillstyles=['white',None,'white',None,'white',None,'white',None,'white',None,'white',None,'white',None,'white',None]\n",
    "        self.markers=['o','s','D','^','<','>','v']\n",
    "        self.markersizes=[10,10,10,12,12,12,10]\n",
    "        self.nmax=7\n",
    "        \n",
    "    def GetAttrs(self,count=0,label='',nevery=1,fmt='.-',zorder=1,**kwargs):\n",
    "        if count > self.nmax:\n",
    "            print('index out of list bound!')\n",
    "            return \n",
    "        attrs={ 'color':self.colors[count],\n",
    "            'markersize':self.markersizes[count],\n",
    "            'marker':self.markers[count],\n",
    "            'markerfacecolor':self.colors[count],\n",
    "            'markeredgecolor':'white', #'black' if not self.fillstyles[count] else None,\n",
    "            'label':label,\n",
    "           'markevery':nevery,\n",
    "           'errorevery':nevery,\n",
    "           'markeredgewidth':1.75,\n",
    "            'linewidth':1, \n",
    "           'barsabove':None,\n",
    "           'capsize':5 if not 'capsize' in kwargs else kwargs['capsize'],\n",
    "           'capthick':1,\n",
    "           'elinewidth':1,\n",
    "           'fmt':fmt,\n",
    "             'zorder':zorder,\n",
    "         }\n",
    "        return attrs\n",
    "    \n",
    "    def GetAttrs2nd(self,count=0,label='',nevery=1,fmt='.-',zorder=1):\n",
    "        if count > self.nmax:\n",
    "            print('index out of list bound!')\n",
    "            return \n",
    "        attrs={ 'color':self.colors[count],\n",
    "            'markersize':self.markersizes[count],\n",
    "            'marker':self.markers[count],\n",
    "            'markerfacecolor':'white',\n",
    "#            'markeredgecolor':'black' if not self.fillstyles[count] else None,\n",
    "            'label':label,\n",
    "           'markevery':nevery,\n",
    "           'errorevery':nevery,\n",
    "           'markeredgewidth':1.75,\n",
    "            'linewidth':1, \n",
    "           'barsabove':None,\n",
    "           'capsize':5,\n",
    "           'capthick':1,\n",
    "           'elinewidth':1,\n",
    "           'fmt':fmt,\n",
    "            'zorder':zorder,\n",
    "          }\n",
    "        return attrs\n",
    "\n",
    "class Legends:\n",
    "    '''\n",
    "    legend settings for matplolib\n",
    "    '''\n",
    "    def __init__(self\n",
    "                ):\n",
    "        pass\n",
    "    def Set(self,fontsize=20,\n",
    "                 labelspacing=0,\n",
    "                 **kwargs\n",
    "#                 bbox_to_anchor=(0.5,0.48,0.5,0.5),\n",
    "           ):\n",
    "        self.attrs = {'frameon':False,'fontsize':fontsize,\n",
    "                   'labelspacing':labelspacing,\n",
    "                      'handletextpad':.2,\n",
    "                   'handlelength':1,\n",
    "                    **kwargs,\n",
    "                     }\n",
    "    def Get(self):\n",
    "        return self.attrs\n",
    "\n",
    "def PutMinorTicks(ax, LOGY=None,LOGX=None, nevery_x=1,nevery_y=1):\n",
    "    ax.xaxis.set_minor_locator(AutoMinorLocator(2))\n",
    "    ax.yaxis.set_minor_locator(AutoMinorLocator(2))\n",
    "    if LOGY:\n",
    "        #--- add major yticks\n",
    "        ymin=np.ceil(np.log10(ax.axis()[2]))\n",
    "        ymax=np.floor(np.log10(ax.axis()[3]))\n",
    "        nbin = ymax - ymin\n",
    "        ax.set_yticks(10**np.arange(ymin,ymax+nevery_y,nevery_y))\n",
    "#        ax.set_yticks(np.logspace(ymin,ymax,int(nbin)+1))\n",
    "        #--- put minor bins y\n",
    "        locmin = matplotlib.ticker.LogLocator(base=10.0,subs=(0.1,0.2,0.3,0.4,0.5,0.6,0.7,0.8,0.9,1),numticks=12)\n",
    "        ax.yaxis.set_minor_locator(locmin)\n",
    "        ax.yaxis.set_minor_formatter(matplotlib.ticker.NullFormatter())\n",
    "    if LOGX:\n",
    "        #--- add major yticks\n",
    "        ymin=np.ceil(np.log10(ax.axis()[0]))\n",
    "        ymax=np.floor(np.log10(ax.axis()[1]))\n",
    "        nbin = ymax - ymin\n",
    "        ax.set_xticks(10**np.arange(ymin,ymax+nevery_x,nevery_x))\n",
    "#        ax.set_xticks(np.logspace(ymin,ymax,int(nbin)+1))\n",
    "#        print(10**np.arange(ymin,ymax,nevery_x))\n",
    "#        ax.set_xticks(np.logspace(ymin,ymax,int(nbin/nevery_x)+1))\n",
    "        #--- put minor bins y\n",
    "        locmin = matplotlib.ticker.LogLocator(base=10.0,subs=(0.1,0.2,0.3,0.4,0.5,0.6,0.7,0.8,0.9,1),numticks=12)\n",
    "        ax.xaxis.set_minor_locator(locmin)\n",
    "        ax.xaxis.set_minor_formatter(matplotlib.ticker.NullFormatter())\n"
   ]
  },
  {
   "cell_type": "markdown",
   "metadata": {},
   "source": [
    "# Load generated qa pairs"
   ]
  },
  {
   "cell_type": "code",
   "execution_count": 3,
   "metadata": {},
   "outputs": [],
   "source": [
    "path = '../data'\n",
    "with open(\"%s/generated_dataset_qa_from_sentences_n=2.json\"%path, \"r\") as f:\n",
    "    qa_dataset = json.load(f)\n"
   ]
  },
  {
   "cell_type": "markdown",
   "metadata": {},
   "source": [
    "This is a list of generated questions and answers pairs in the following format. Each element in the list is a dictionary with a context as a key and list of qa pairs as values.\n",
    "\n",
    "```\n",
    "[\n",
    "    context : [\n",
    "        {\n",
    "            Question: question,\n",
    "            Answer: answer,\n",
    "        },\n",
    "        {\n",
    "            ...\n",
    "        },    \n",
    "    ],\n",
    "    context2 : [\n",
    "        ....\n",
    "    ],\n",
    "]\n",
    "\n",
    "```"
   ]
  },
  {
   "cell_type": "code",
   "execution_count": 4,
   "metadata": {},
   "outputs": [
    {
     "data": {
      "text/plain": [
       "[{'This observed orientation relationship results in the dendrite core being slightly off of the [ 10 1 ¯ ] zone axis when the interdendritic region is tilted to the [ 1 ¯ 32 ] zone axis, as seen in Fig. 6(b). The crystallographic phases, twinning, and orientation relationship will be discussed subsequently in more detail. 4 Discussion 4.1 Solidification and particle microstructure The microstructures of the rapidly solidified UNb particles display a clear dependence on particle size, as seen in Fig. 1.': [{'Question': ' What is the orientation relationship between the dendrite core and the interdendritic region in the solidified UNb particles?',\n",
       "    'Answer': ' The orientation relationship results in the dendrite core being slightly off of the [ 10 1 ¯ ] zone axis when the interdendritic region is tilted to the [ 1 ¯ 32 ] zone axis.'},\n",
       "   {'Question': ' Is there a relationship between the microstructures of the rapidly solidified UNb particles and their particle size?',\n",
       "    'Answer': ' Yes, the microstructures of the rapidly solidified UNb particles display a clear dependence on particle size.'},\n",
       "   {'Question': ' Will the crystallographic phases, twinning, and orientation relationship be discussed in more detail?',\n",
       "    'Answer': ' Yes, the crystallographic phases, twinning, and orientation relationship will be discussed subsequently in more detail.'}]},\n",
       " {'The specimen pre-oxidized at 900 °C does not show prior-β phase structure formed during cooling as β-Zr transformed to α-Zr. This indicates that the phase transformation temperature of Zr-1Nb-1Sn-0.1Fe alloy cladding from (α+β)-Zr to β-Zr during steam oxidation is between 900 and 1000 °C, which agrees with a previous study [1]. 3.2 Ring compression test after subsequent oxidation at 1000\\u202f°C The total weight gains of the specimens after subsequent oxidation at 1000\\u202f°C for 5130\\u202fs are shown in Fig. 5 .': [{'Question': ' What is the phase transformation temperature of Zr-1Nb-1Sn-0.1Fe alloy cladding from (α+β)-Zr to β-Zr during steam oxidation?',\n",
       "    'Answer': ' The phase transformation temperature of Zr-1Nb-1Sn-0.1Fe alloy cladding from (α+β)-Zr to β-Zr during steam oxidation is between 900 and 1000 °C.'},\n",
       "   {'Question': ' What is the weight gain of the specimens after subsequent oxidation at 1000\\u202f°C for 5130\\u202fs?',\n",
       "    'Answer': ' The weight gain of the specimens after subsequent oxidation at 1000\\u202f°C for 5130\\u202fs is shown in Fig. 5.'},\n",
       "   {'Question': ' Does the specimen pre-oxidized at 900 °C show prior-β phase structure formed during cooling?',\n",
       "    'Answer': ' No, the specimen pre-oxidized at 900 °C does not show prior-β phase structure formed during cooling as β-Zr transformed to α-Zr.'}]}]"
      ]
     },
     "execution_count": 4,
     "metadata": {},
     "output_type": "execute_result"
    }
   ],
   "source": [
    "qa_dataset[:2]"
   ]
  },
  {
   "cell_type": "markdown",
   "metadata": {},
   "source": [
    "To get only qa pairs do this:"
   ]
  },
  {
   "cell_type": "code",
   "execution_count": 5,
   "metadata": {},
   "outputs": [
    {
     "data": {
      "text/plain": [
       "dict_values([[{'Question': ' What is the orientation relationship between the dendrite core and the interdendritic region in the solidified UNb particles?', 'Answer': ' The orientation relationship results in the dendrite core being slightly off of the [ 10 1 ¯ ] zone axis when the interdendritic region is tilted to the [ 1 ¯ 32 ] zone axis.'}, {'Question': ' Is there a relationship between the microstructures of the rapidly solidified UNb particles and their particle size?', 'Answer': ' Yes, the microstructures of the rapidly solidified UNb particles display a clear dependence on particle size.'}, {'Question': ' Will the crystallographic phases, twinning, and orientation relationship be discussed in more detail?', 'Answer': ' Yes, the crystallographic phases, twinning, and orientation relationship will be discussed subsequently in more detail.'}]])"
      ]
     },
     "execution_count": 5,
     "metadata": {},
     "output_type": "execute_result"
    }
   ],
   "source": [
    "qa_dataset[0].values()"
   ]
  },
  {
   "cell_type": "code",
   "execution_count": 5,
   "metadata": {},
   "outputs": [],
   "source": [
    "all_qa_pairs = []\n",
    "for data in qa_dataset:\n",
    "    all_qa_pairs.extend(*data.values())"
   ]
  },
  {
   "cell_type": "code",
   "execution_count": 6,
   "metadata": {},
   "outputs": [
    {
     "data": {
      "text/plain": [
       "dict_values([[{'Question': ' What was the sample cut for?', 'Answer': ' The sample was cut to observe the horizontal cross section.'}, {'Question': ' What was used to polish the sample?', 'Answer': ' Diamond paste was used to polish the sample.'}, {'Question': ' What was used to perform the B element analysis?', 'Answer': ' An electron probe micro analyzer-wavelength dispersive X-ray spectroscopy (EPMA-WDS) was used to perform the B element analysis.'}]])"
      ]
     },
     "execution_count": 6,
     "metadata": {},
     "output_type": "execute_result"
    }
   ],
   "source": [
    "data.values()"
   ]
  },
  {
   "cell_type": "markdown",
   "metadata": {},
   "source": [
    "Each qa pair is a dictionary with keys adequately named \"Question\" and \"Answer\""
   ]
  },
  {
   "cell_type": "code",
   "execution_count": 7,
   "metadata": {},
   "outputs": [
    {
     "data": {
      "text/plain": [
       "[{'Question': ' What is the orientation relationship between the dendrite core and the interdendritic region in the solidified UNb particles?',\n",
       "  'Answer': ' The orientation relationship results in the dendrite core being slightly off of the [ 10 1 ¯ ] zone axis when the interdendritic region is tilted to the [ 1 ¯ 32 ] zone axis.'},\n",
       " {'Question': ' Is there a relationship between the microstructures of the rapidly solidified UNb particles and their particle size?',\n",
       "  'Answer': ' Yes, the microstructures of the rapidly solidified UNb particles display a clear dependence on particle size.'}]"
      ]
     },
     "execution_count": 7,
     "metadata": {},
     "output_type": "execute_result"
    }
   ],
   "source": [
    "all_qa_pairs[0:2]"
   ]
  },
  {
   "cell_type": "code",
   "execution_count": 8,
   "metadata": {},
   "outputs": [
    {
     "name": "stdout",
     "output_type": "stream",
     "text": [
      "Question:  What is the orientation relationship between the dendrite core and the interdendritic region in the solidified UNb particles?\n",
      "Answer:  The orientation relationship results in the dendrite core being slightly off of the [ 10 1 ¯ ] zone axis when the interdendritic region is tilted to the [ 1 ¯ 32 ] zone axis.\n"
     ]
    }
   ],
   "source": [
    "example_qa = all_qa_pairs[0]\n",
    "\n",
    "print(f\"Question: {example_qa['Question']}\")\n",
    "print(f\"Answer: {example_qa['Answer']}\")"
   ]
  },
  {
   "cell_type": "markdown",
   "metadata": {},
   "source": [
    "# Load Word2Vec"
   ]
  },
  {
   "cell_type": "code",
   "execution_count": 6,
   "metadata": {},
   "outputs": [],
   "source": [
    "wv = api.load('word2vec-google-news-300')\n",
    "\n"
   ]
  },
  {
   "cell_type": "markdown",
   "metadata": {},
   "source": [
    "Word2Vec is a ML model that encodes words into verctors (in this case 300 numbers long)."
   ]
  },
  {
   "cell_type": "code",
   "execution_count": 31,
   "metadata": {},
   "outputs": [],
   "source": [
    "vec_king = wv['king']"
   ]
  },
  {
   "cell_type": "code",
   "execution_count": 32,
   "metadata": {},
   "outputs": [
    {
     "data": {
      "text/plain": [
       "(300,)"
      ]
     },
     "execution_count": 32,
     "metadata": {},
     "output_type": "execute_result"
    }
   ],
   "source": [
    "vec_king.shape"
   ]
  },
  {
   "cell_type": "code",
   "execution_count": 33,
   "metadata": {},
   "outputs": [
    {
     "data": {
      "text/plain": [
       "array([ 0.12597656,  0.02978516,  0.00860596,  0.13964844, -0.02563477,\n",
       "       -0.03613281,  0.11181641, -0.19824219,  0.05126953,  0.36328125,\n",
       "       -0.2421875 , -0.30273438, -0.17773438, -0.02490234, -0.16796875,\n",
       "       -0.16992188,  0.03466797,  0.00521851,  0.04638672,  0.12890625,\n",
       "        0.13671875,  0.11279297,  0.05957031,  0.13671875,  0.10107422,\n",
       "       -0.17675781, -0.25195312,  0.05981445,  0.34179688, -0.03112793,\n",
       "        0.10449219,  0.06176758,  0.12451172,  0.40039062, -0.32226562,\n",
       "        0.08398438,  0.0390625 ,  0.00585938,  0.0703125 ,  0.17285156],\n",
       "      dtype=float32)"
      ]
     },
     "execution_count": 33,
     "metadata": {},
     "output_type": "execute_result"
    }
   ],
   "source": [
    "vec_king[:40]"
   ]
  },
  {
   "cell_type": "markdown",
   "metadata": {},
   "source": [
    "You use this to find similar words"
   ]
  },
  {
   "cell_type": "code",
   "execution_count": 84,
   "metadata": {},
   "outputs": [
    {
     "data": {
      "text/plain": [
       "[('queens', 0.739944338798523),\n",
       " ('princess', 0.7070532441139221),\n",
       " ('king', 0.6510956883430481),\n",
       " ('monarch', 0.6383602023124695),\n",
       " ('very_pampered_McElhatton', 0.6357026696205139),\n",
       " ('Queen', 0.6163407564163208),\n",
       " ('NYC_anglophiles_aflutter', 0.6060680150985718),\n",
       " ('Queen_Consort', 0.5923796892166138),\n",
       " ('princesses', 0.5908074975013733),\n",
       " ('royal', 0.5637185573577881)]"
      ]
     },
     "execution_count": 84,
     "metadata": {},
     "output_type": "execute_result"
    }
   ],
   "source": [
    "wv.most_similar(positive=[\"queen\"], topn=10)"
   ]
  },
  {
   "cell_type": "markdown",
   "metadata": {},
   "source": [
    "Or find words with similar verctors you your word"
   ]
  },
  {
   "cell_type": "code",
   "execution_count": 85,
   "metadata": {},
   "outputs": [
    {
     "data": {
      "text/plain": [
       "[('king', 1.0),\n",
       " ('kings', 0.7138044834136963),\n",
       " ('queen', 0.6510956883430481),\n",
       " ('monarch', 0.6413194537162781),\n",
       " ('crown_prince', 0.6204220056533813),\n",
       " ('prince', 0.6159993410110474),\n",
       " ('sultan', 0.5864824056625366),\n",
       " ('ruler', 0.5797566771507263),\n",
       " ('princes', 0.5646551847457886),\n",
       " ('Prince_Paras', 0.543294370174408)]"
      ]
     },
     "execution_count": 85,
     "metadata": {},
     "output_type": "execute_result"
    }
   ],
   "source": [
    "wv.most_similar(positive=[vec_king], topn=10)"
   ]
  },
  {
   "cell_type": "markdown",
   "metadata": {},
   "source": [
    "You can even do some math on vectors and expect to have some correlation in how close those vectors get to vectors of known words"
   ]
  },
  {
   "cell_type": "code",
   "execution_count": 86,
   "metadata": {},
   "outputs": [],
   "source": [
    "vec_man = wv['man']\n",
    "vec_woman = wv['woman']"
   ]
  },
  {
   "cell_type": "code",
   "execution_count": 87,
   "metadata": {},
   "outputs": [],
   "source": [
    "new_vec = vec_king - vec_man + vec_woman"
   ]
  },
  {
   "cell_type": "markdown",
   "metadata": {},
   "source": [
    "Queen is more similar now then before."
   ]
  },
  {
   "cell_type": "code",
   "execution_count": 88,
   "metadata": {},
   "outputs": [
    {
     "data": {
      "text/plain": [
       "[('king', 0.8449392318725586),\n",
       " ('queen', 0.7300517559051514),\n",
       " ('monarch', 0.645466148853302)]"
      ]
     },
     "execution_count": 88,
     "metadata": {},
     "output_type": "execute_result"
    }
   ],
   "source": [
    "wv.most_similar(positive=[new_vec], topn=3)"
   ]
  },
  {
   "cell_type": "markdown",
   "metadata": {},
   "source": [
    "Not all words are present in word2vec dictionary"
   ]
  },
  {
   "cell_type": "code",
   "execution_count": 34,
   "metadata": {},
   "outputs": [
    {
     "ename": "KeyError",
     "evalue": "\"Key 'cameroon' not present\"",
     "output_type": "error",
     "traceback": [
      "\u001b[0;31m---------------------------------------------------------------------------\u001b[0m",
      "\u001b[0;31mKeyError\u001b[0m                                  Traceback (most recent call last)",
      "Cell \u001b[0;32mIn[34], line 1\u001b[0m\n\u001b[0;32m----> 1\u001b[0m vec_cam \u001b[38;5;241m=\u001b[39m wv[\u001b[38;5;124m'\u001b[39m\u001b[38;5;124mcameroon\u001b[39m\u001b[38;5;124m'\u001b[39m]\n",
      "File \u001b[0;32m/opt/anaconda3/envs/word2vec/lib/python3.11/site-packages/gensim/models/keyedvectors.py:403\u001b[0m, in \u001b[0;36mKeyedVectors.__getitem__\u001b[0;34m(self, key_or_keys)\u001b[0m\n\u001b[1;32m    389\u001b[0m \u001b[38;5;250m\u001b[39m\u001b[38;5;124;03m\"\"\"Get vector representation of `key_or_keys`.\u001b[39;00m\n\u001b[1;32m    390\u001b[0m \n\u001b[1;32m    391\u001b[0m \u001b[38;5;124;03mParameters\u001b[39;00m\n\u001b[0;32m   (...)\u001b[0m\n\u001b[1;32m    400\u001b[0m \n\u001b[1;32m    401\u001b[0m \u001b[38;5;124;03m\"\"\"\u001b[39;00m\n\u001b[1;32m    402\u001b[0m \u001b[38;5;28;01mif\u001b[39;00m \u001b[38;5;28misinstance\u001b[39m(key_or_keys, _KEY_TYPES):\n\u001b[0;32m--> 403\u001b[0m     \u001b[38;5;28;01mreturn\u001b[39;00m \u001b[38;5;28mself\u001b[39m\u001b[38;5;241m.\u001b[39mget_vector(key_or_keys)\n\u001b[1;32m    405\u001b[0m \u001b[38;5;28;01mreturn\u001b[39;00m vstack([\u001b[38;5;28mself\u001b[39m\u001b[38;5;241m.\u001b[39mget_vector(key) \u001b[38;5;28;01mfor\u001b[39;00m key \u001b[38;5;129;01min\u001b[39;00m key_or_keys])\n",
      "File \u001b[0;32m/opt/anaconda3/envs/word2vec/lib/python3.11/site-packages/gensim/models/keyedvectors.py:446\u001b[0m, in \u001b[0;36mKeyedVectors.get_vector\u001b[0;34m(self, key, norm)\u001b[0m\n\u001b[1;32m    422\u001b[0m \u001b[38;5;28;01mdef\u001b[39;00m \u001b[38;5;21mget_vector\u001b[39m(\u001b[38;5;28mself\u001b[39m, key, norm\u001b[38;5;241m=\u001b[39m\u001b[38;5;28;01mFalse\u001b[39;00m):\n\u001b[1;32m    423\u001b[0m \u001b[38;5;250m    \u001b[39m\u001b[38;5;124;03m\"\"\"Get the key's vector, as a 1D numpy array.\u001b[39;00m\n\u001b[1;32m    424\u001b[0m \n\u001b[1;32m    425\u001b[0m \u001b[38;5;124;03m    Parameters\u001b[39;00m\n\u001b[0;32m   (...)\u001b[0m\n\u001b[1;32m    444\u001b[0m \n\u001b[1;32m    445\u001b[0m \u001b[38;5;124;03m    \"\"\"\u001b[39;00m\n\u001b[0;32m--> 446\u001b[0m     index \u001b[38;5;241m=\u001b[39m \u001b[38;5;28mself\u001b[39m\u001b[38;5;241m.\u001b[39mget_index(key)\n\u001b[1;32m    447\u001b[0m     \u001b[38;5;28;01mif\u001b[39;00m norm:\n\u001b[1;32m    448\u001b[0m         \u001b[38;5;28mself\u001b[39m\u001b[38;5;241m.\u001b[39mfill_norms()\n",
      "File \u001b[0;32m/opt/anaconda3/envs/word2vec/lib/python3.11/site-packages/gensim/models/keyedvectors.py:420\u001b[0m, in \u001b[0;36mKeyedVectors.get_index\u001b[0;34m(self, key, default)\u001b[0m\n\u001b[1;32m    418\u001b[0m     \u001b[38;5;28;01mreturn\u001b[39;00m default\n\u001b[1;32m    419\u001b[0m \u001b[38;5;28;01melse\u001b[39;00m:\n\u001b[0;32m--> 420\u001b[0m     \u001b[38;5;28;01mraise\u001b[39;00m \u001b[38;5;167;01mKeyError\u001b[39;00m(\u001b[38;5;124mf\u001b[39m\u001b[38;5;124m\"\u001b[39m\u001b[38;5;124mKey \u001b[39m\u001b[38;5;124m'\u001b[39m\u001b[38;5;132;01m{\u001b[39;00mkey\u001b[38;5;132;01m}\u001b[39;00m\u001b[38;5;124m'\u001b[39m\u001b[38;5;124m not present\u001b[39m\u001b[38;5;124m\"\u001b[39m)\n",
      "\u001b[0;31mKeyError\u001b[0m: \"Key 'cameroon' not present\""
     ]
    }
   ],
   "source": [
    "vec_cam = wv['cameroon']"
   ]
  },
  {
   "cell_type": "markdown",
   "metadata": {},
   "source": [
    "However letter case matters here"
   ]
  },
  {
   "cell_type": "code",
   "execution_count": 35,
   "metadata": {},
   "outputs": [],
   "source": [
    "vec_cam = wv['Cameroon']"
   ]
  },
  {
   "cell_type": "markdown",
   "metadata": {},
   "source": [
    "In this case you can either train new model with increased vocabulary or skip that word."
   ]
  },
  {
   "cell_type": "code",
   "execution_count": 36,
   "metadata": {},
   "outputs": [
    {
     "name": "stdout",
     "output_type": "stream",
     "text": [
      "Why: [ 0.15136719  0.25390625  0.22851562  0.34179688 -0.22265625].....\n",
      "is: [ 0.00704956 -0.07324219  0.171875    0.02258301 -0.1328125 ].....\n",
      "No word cameroon in vocabulary.\n",
      "not: [ 0.08496094 -0.09521484  0.11914062  0.11181641 -0.11132812].....\n",
      "in: [0.0703125  0.08691406 0.08789062 0.0625     0.06933594].....\n",
      "the: [ 0.08007812  0.10498047  0.04980469  0.0534668  -0.06738281].....\n",
      "vocabulary: [0.31835938 0.11230469 0.2890625  0.11328125 0.01312256].....\n",
      "but: [-0.04760742  0.08154297  0.0456543   0.09179688 -0.01470947].....\n",
      "Cameroon: [0.265625   0.15332031 0.02966309 0.03442383 0.06835938].....\n",
      "is: [ 0.00704956 -0.07324219  0.171875    0.02258301 -0.1328125 ].....\n",
      "No word ? in vocabulary.\n"
     ]
    }
   ],
   "source": [
    "for word in \"Why is cameroon not in the vocabulary but Cameroon is ?\".split():\n",
    "    try:\n",
    "        embedding = wv[word]\n",
    "    except KeyError:\n",
    "        print(f\"No word {word} in vocabulary.\")\n",
    "        continue\n",
    "    \n",
    "    print(f\"{word}: {embedding[:5]}.....\")\n",
    "    \n"
   ]
  },
  {
   "cell_type": "markdown",
   "metadata": {},
   "source": [
    "And to get back to our data"
   ]
  },
  {
   "cell_type": "code",
   "execution_count": 37,
   "metadata": {},
   "outputs": [
    {
     "name": "stdout",
     "output_type": "stream",
     "text": [
      " What is the orientation relationship between the dendrite core and the interdendritic region in the solidified UNb particles?\n",
      "\n",
      "What: [-0.02307129  0.15332031  0.15234375  0.05053711 -0.24902344].....\n",
      "is: [ 0.00704956 -0.07324219  0.171875    0.02258301 -0.1328125 ].....\n",
      "the: [ 0.08007812  0.10498047  0.04980469  0.0534668  -0.06738281].....\n",
      "orientation: [-0.1796875   0.04541016 -0.11767578  0.16015625 -0.26953125].....\n",
      "relationship: [ 0.02868652 -0.05810547 -0.13183594 -0.05102539 -0.12792969].....\n",
      "between: [ 0.09375    -0.08642578  0.15429688  0.07080078  0.08984375].....\n",
      "the: [ 0.08007812  0.10498047  0.04980469  0.0534668  -0.06738281].....\n",
      "dendrite: [-0.08251953 -0.03173828 -0.03417969  0.11767578 -0.17578125].....\n",
      "core: [-0.05102539  0.07617188  0.22753906  0.25       -0.29882812].....\n",
      "No word and in vocabulary.\n",
      "the: [ 0.08007812  0.10498047  0.04980469  0.0534668  -0.06738281].....\n",
      "No word interdendritic in vocabulary.\n",
      "region: [-0.04125977  0.03100586  0.08251953 -0.04980469  0.03588867].....\n",
      "in: [0.0703125  0.08691406 0.08789062 0.0625     0.06933594].....\n",
      "the: [ 0.08007812  0.10498047  0.04980469  0.0534668  -0.06738281].....\n",
      "solidified: [-0.23632812  0.19433594 -0.21875     0.10742188  0.01031494].....\n",
      "No word UNb in vocabulary.\n",
      "particles: [ 0.21484375  0.05493164  0.61328125 -0.51953125 -0.42578125].....\n",
      "No word ? in vocabulary.\n"
     ]
    }
   ],
   "source": [
    "print(example_qa['Question'])\n",
    "print()\n",
    "example_question = example_qa['Question'].replace(\"?\", \" ?\") # add space before \"?\" or we could remove it since it's not in the vocab anyway.\n",
    "\n",
    "for word in example_question.split():\n",
    "    try:\n",
    "        embedding = wv[word]\n",
    "    except KeyError:\n",
    "        print(f\"No word {word} in vocabulary.\")\n",
    "        continue\n",
    "    \n",
    "    print(f\"{word}: {embedding[:5]}.....\")\n",
    "    \n"
   ]
  },
  {
   "cell_type": "markdown",
   "metadata": {},
   "source": [
    "# Construct graphs"
   ]
  },
  {
   "cell_type": "code",
   "execution_count": 300,
   "metadata": {},
   "outputs": [],
   "source": [
    "class GraphNetwork:\n",
    "    '''\n",
    "    Class for embedded-word graphs storing nodes with optional attributes\n",
    "    \n",
    "    Edges are represented as links between nodes with optional data.\n",
    "    '''\n",
    "    \n",
    "    \n",
    "    def __init__(self, wv, ndim, verbose=False):\n",
    "        self.verbose = verbose\n",
    "        self.wv = wv\n",
    "        self.ndim = ndim\n",
    "        pass\n",
    "    \n",
    "    \n",
    "    def Embedding(self, word):\n",
    "        '''\n",
    "        word embedding using word2vec\n",
    "        '''\n",
    "        try:\n",
    "            return self.wv[word]\n",
    "        except KeyError:\n",
    "            if self.verbose:\n",
    "                print(f\"No word {word} in vocabulary.\")\n",
    "            return np.array([np.nan]*self.ndim)\n",
    "#             continue\n",
    "\n",
    "    def ParseStringArrays(self, data):\n",
    "        '''\n",
    "        embedd array of strings in a vector space\n",
    "        '''\n",
    "        #--- positions in the embedded space\n",
    "        self.position = np.concatenate(list(map(lambda x:self.ParseString(x),data)),axis=0)\n",
    "\n",
    "        if self.verbose:\n",
    "            print('position.shape:',self.position.shape)\n",
    "\n",
    "        \n",
    "        self.nnode = self.position.shape[0]\n",
    "        \n",
    "    def ParseString(self,strr):\n",
    "        '''\n",
    "        embedd string in a vector space\n",
    "\n",
    "        '''\n",
    "        #--- preprocess qa pair\n",
    "        data_preprocessed = list(map(lambda x:GraphNetwork.Preprocess(x),strr))\n",
    "        if self.verbose:\n",
    "            print('qa pair:',strr)\n",
    "            print('preprocessed qa pair:',data_preprocessed)\n",
    "\n",
    "\n",
    "        #--- concat\n",
    "        data_preprocessed = ' '.join(data_preprocessed)\n",
    "        if self.verbose:\n",
    "            print('concatenated qa:',data_preprocessed)\n",
    "\n",
    "        #--- rm duplicates\n",
    "        example_question_unique = list(set(data_preprocessed.split()))\n",
    "        data_preprocessed = ' '.join(example_question_unique)\n",
    "        if self.verbose:\n",
    "            print('unique qa:',data_preprocessed)\n",
    "#        words_unique = list(set(words))\n",
    "\n",
    "\n",
    "        #--- embed in feature space\n",
    "        position = np.c_[list(map(lambda x: self.Embedding(x),data_preprocessed.split()))]\n",
    "        assert position.shape[1] == self.ndim, 'dimension of %s != %s'(data_preprocessed,self.ndim)\n",
    "        \n",
    "        #--- rm nan's\n",
    "        position, filtr = GraphNetwork.RemoveNans(position)\n",
    "        \n",
    "        \n",
    "        #--- return center of mass\n",
    "#        center = np.mean(position[filtr],axis=0)\n",
    "    \n",
    "        #--- add noise\n",
    "        GraphNetwork.Addnoise(position)\n",
    "#        words = np.c_[list(map(lambda x:self.ParseString(x)[1],data))]\n",
    "        \n",
    "        #--- process        \n",
    "\n",
    "\n",
    "\n",
    "#         self.nnode = self.position.shape[0]\n",
    "        self.labels = np.array(data_preprocessed.split())[filtr]\n",
    "        \n",
    "        return position #[filtr] # , example_question[filtr] #[filtr], np.array(example_question_unique)[filtr]\n",
    "        \n",
    "    def BuildGraph(self,thresh=1e-1):\n",
    "        '''\n",
    "        construct a geometric graph\n",
    "        '''\n",
    "        dim=self.ndim\n",
    "        w = {i: 0.5 for i in range( self.nnode ) }\n",
    "        self.graph = nx.geographical_threshold_graph(self.nnode, 1.0/thresh,dim=dim,\n",
    "                                                     pos=self.position, weight=w)\n",
    "\n",
    "    def PlotGraph(self):\n",
    "        '''\n",
    "        plot grpahs\n",
    "        '''\n",
    "        \n",
    "        edge_list = np.array(self.graph.edges())\n",
    "        inv_distance = np.log10(np.array(list(map(lambda x:1/self.distance_matrix[x[0],x[1]],edge_list))))\n",
    "        xmin = np.min(inv_distance)\n",
    "        xmax = np.max(inv_distance)\n",
    "        inv_distance -= xmin\n",
    "        inv_distance /= (xmax-xmin)\n",
    "        \n",
    "        #--- only connected nodes\n",
    "        nodelist = list(set(edge_list.flatten()))\n",
    "        \n",
    "        #--- plot\n",
    "        subax1 = plt.subplot(111)\n",
    "        nx.draw_networkx(self.graph,pos=dict(zip(self.graph.nodes,self.position[:,0:2])),\n",
    "                  labels=dict(zip(range(self.nnode),self.labels)),\n",
    "                with_labels=True, \n",
    "                 font_weight='bold',\n",
    "                         nodelist=nodelist,\n",
    "                         node_color='yellow',\n",
    "                         linewidths=0.5,\n",
    "                         font_size=8.0,\n",
    "                         width = inv_distance, #(inv_distance-xmin)/(xmax-xmin),\n",
    "#                          edge_vmin=0,edge_vmax=1, \n",
    "#               font_size=8,\n",
    "#                node_size=30,\n",
    "               )\n",
    "        \n",
    "        #--- plot edge labels\n",
    "        edge_tuples = list(map(lambda x:(x[0],x[1]),edge_list))\n",
    "        inv_distance_str = list(map(lambda x:'%3.2f'%x,inv_distance))\n",
    "        edge_labels = dict(zip(edge_tuples,inv_distance_str))\n",
    "        nx.draw_networkx_edge_labels(self.graph,pos=dict(zip(self.graph.nodes,self.position[:,0:2])),\n",
    "                                    edge_labels=edge_labels,\n",
    "                                    font_color='red',\n",
    "                                     font_size=6,\n",
    "                                    )\n",
    "        plt.savefig('png/graph.png',dpi=300)\n",
    "\n",
    "    def DistanceMatrix(self):\n",
    "        '''\n",
    "        compute distance matrix\n",
    "        '''\n",
    "        self.distance_matrix = np.c_[list(map(lambda y:\\\n",
    "                              list(map(lambda x: GraphNetwork.Distance(x,self.position[y]) ,self.position)), range(self.nnode)))]\n",
    "        \n",
    "    def PlotPairDistance(self,rcut=1.0):\n",
    "        '''\n",
    "        distance distribution\n",
    "        '''\n",
    "        rij = np.concatenate(list(map(lambda x:self.distance_matrix[x,x+1:],range(self.nnode))))\n",
    "        hist, bin_edges, err = GetPDF(rij[rij>=rcut], n_per_decade=32)\n",
    "\n",
    "        !mkdir png\n",
    "        PltErr(bin_edges,hist,\n",
    "                  yerr=err,\n",
    "                   xscale='log',yscale='log',\n",
    "                   xstr='distance',ystr='probability',\n",
    "                   title='png/pairwise_distance_distribution.png',\n",
    "                   xlim=(1e-1,100),\n",
    "                  )\n",
    "        \n",
    "    def PlotDegree(self):\n",
    "        '''\n",
    "        degree distribution\n",
    "        '''\n",
    "        degrees = np.array([self.graph.degree(n) for n in self.graph.nodes()])\n",
    "        filtr = degrees > 0\n",
    "        hist, bin_edges, err = GetPDF(degrees[filtr], n_per_decade=16)\n",
    "\n",
    "#         np.savetxt('png/degree2.txt',np.c_[hist, bin_edges, err])\n",
    "        PltErr(bin_edges,hist,\n",
    "                  yerr=err,\n",
    "                   xscale='log',yscale='log',\n",
    "                    xstr='degree',ystr='probability',\n",
    "                   title='png/degree_distribution.png',\n",
    "                  )\n",
    "\n",
    "        \n",
    "    @staticmethod\n",
    "    def Distance(xi,xj):\n",
    "        return np.sum((xi-xj)**2)\n",
    "\n",
    "    @staticmethod\n",
    "    def withinThreshold(G, thresh):\n",
    "        for item in G.edges():\n",
    "            xi = pos[item[0]]\n",
    "            xj = pos[item[1]]\n",
    "            dist = GraphNetwork.Distance(xi,xj)\n",
    "            assert dist <= thresh, '%s <= %s!'%(dist,thresh)\n",
    "            \n",
    "    @staticmethod\n",
    "    def Replace(strr):\n",
    "        strr = strr.replace(\"?\", \" ?\")\n",
    "        strr = strr.replace(\".\", \" .\")\n",
    "        strr = strr.replace(\",\", \" ,\")\n",
    "        return strr\n",
    "        \n",
    "    @staticmethod\n",
    "    def Preprocess(data):\n",
    "        #--- replace\n",
    "#        data_replaced_qmark = list(map(lambda x:GraphNetwork.Replace(x),data))\n",
    "        data_replaced_qmark = GraphNetwork.Replace(data)\n",
    "        #--- concat\n",
    "#        data_concat = np.concatenate(list(map(lambda x:x.split(),data_replaced_qmark)))\n",
    "        \n",
    "        #--- rm duplicates\n",
    "#        data_unique = list(set(data_concat))\n",
    "        \n",
    "        return data_replaced_qmark\n",
    "    \n",
    "    @staticmethod\n",
    "    def RemoveNans(array):\n",
    "        filtr = ~np.any(np.isnan(array),axis=1)\n",
    "        return array[filtr], filtr\n",
    "\n",
    "    @staticmethod\n",
    "    def Addnoise(position):\n",
    "        noise = np.random.normal(size=position.size,\n",
    "                scale=1e-6).reshape(position.shape)\n",
    "        position += noise\n"
   ]
  },
  {
   "cell_type": "code",
   "execution_count": 301,
   "metadata": {
    "scrolled": false
   },
   "outputs": [
    {
     "name": "stdout",
     "output_type": "stream",
     "text": [
      "qa pair: (' What flavour ice cream do you prefer?', 'I like chocolate ice cream.')\n",
      "preprocessed qa pair: [' What flavour ice cream do you prefer ?', 'I like chocolate ice cream .']\n",
      "concatenated qa:  What flavour ice cream do you prefer ? I like chocolate ice cream .\n",
      "unique qa: chocolate flavour cream ice like ? do prefer I you . What\n",
      "No word flavour in vocabulary.\n",
      "No word ? in vocabulary.\n",
      "No word . in vocabulary.\n",
      "position.shape: (9, 300)\n",
      "mkdir: png: File exists\r\n"
     ]
    },
    {
     "data": {
      "image/png": "[encoded data removed]",
      "text/plain": [
       "<Figure size 400x400 with 1 Axes>"
      ]
     },
     "metadata": {},
     "output_type": "display_data"
    },
    {
     "data": {
      "image/png": "[encoded data removed]",
      "text/plain": [
       "<Figure size 640x480 with 1 Axes>"
      ]
     },
     "metadata": {},
     "output_type": "display_data"
    }
   ],
   "source": [
    "def main():\n",
    "    \n",
    "    #--- create qa pairs\n",
    "    all_qa_pairs = []\n",
    "    for data in qa_dataset:\n",
    "        all_qa_pairs.extend(*data.values())\n",
    "\n",
    "    #--- dictionary of q&a's\n",
    "    qa_dict = {}\n",
    "    for item in all_qa_pairs:\n",
    "        if not 'Question' in item:\n",
    "            continue\n",
    "        qa_dict.setdefault(item['Question'],[]).append(item['Answer'])\n",
    "        \n",
    "    qa_tuples = list(map(lambda x: (x,qa_dict[x][0]), qa_dict.keys()))\n",
    "    \n",
    "    #--- setup your graph\n",
    "    gn = GraphNetwork(wv,\n",
    "                      300,\n",
    "                         verbose=True,\n",
    "                     )\n",
    "    gn.ParseStringArrays(\n",
    "#         qa_tuples[:1],\n",
    "      [(' What flavour ice cream do you prefer?','I like chocolate ice cream.')],\n",
    "#      [('what cream?','I chocolate.')],\n",
    "    )\n",
    "    gn.DistanceMatrix()\n",
    "    gn.BuildGraph(thresh=1.e4)\n",
    "    gn.PlotPairDistance(0.001)\n",
    "#     gn.PlotDegree()\n",
    "    gn.PlotGraph()\n",
    "\n",
    "    return qa_tuples, gn\n",
    "qa_tuples, gn = main()"
   ]
  },
  {
   "cell_type": "code",
   "execution_count": null,
   "metadata": {
    "scrolled": false
   },
   "outputs": [],
   "source": [
    "data0=np.loadtxt('png/degree0.txt')\n",
    "data1=np.loadtxt('png/degree1.txt')\n",
    "data2=np.loadtxt('png/degree2.txt')\n",
    "\n",
    "symbols = Symbols()\n",
    "legends = Legends()\n",
    "legends.Set()\n",
    "\n",
    "ax = PltErr(None,None,Plot=False)\n",
    "\n",
    "hist, bin_edges, err = data0.T\n",
    "PltErr(bin_edges,hist,\n",
    "          yerr=err,\n",
    "           attrs=symbols.GetAttrs(count=0, label=r'$0.6$'),\n",
    "           ax=ax,\n",
    "           Plot=False,\n",
    "          )\n",
    "\n",
    "hist, bin_edges, err = data1.T\n",
    "PltErr(bin_edges,hist,\n",
    "          yerr=err,\n",
    "           attrs=symbols.GetAttrs(count=1,label=r'$0.8$'),\n",
    "           ax=ax,\n",
    "           Plot=False,\n",
    "          )\n",
    "\n",
    "hist, bin_edges, err = data2.T\n",
    "PltErr(bin_edges,hist,\n",
    "          yerr=err,\n",
    "           attrs=symbols.GetAttrs(count=2,label=r'$1.0$'),\n",
    "           ax=ax,\n",
    "           Plot=False,\n",
    "          )\n",
    "\n",
    "PltErr(None,None,\n",
    "           xscale='log',yscale='log',\n",
    "            xstr='degree',ystr='probability',\n",
    "           title='png/degree_distribution.png',\n",
    "            ax=ax,\n",
    "           legend=legends.Get()\n",
    "          )"
   ]
  },
  {
   "cell_type": "code",
   "execution_count": null,
   "metadata": {},
   "outputs": [],
   "source": []
  }
 ],
 "metadata": {
  "kernelspec": {
   "display_name": "word2vec",
   "language": "python",
   "name": "word2vec"
  },
  "language_info": {
   "codemirror_mode": {
    "name": "ipython",
    "version": 3
   },
   "file_extension": ".py",
   "mimetype": "text/x-python",
   "name": "python",
   "nbconvert_exporter": "python",
   "pygments_lexer": "ipython3",
   "version": "3.11.5"
  }
 },
 "nbformat": 4,
 "nbformat_minor": 2
}
